{
 "cells": [
  {
   "cell_type": "markdown",
   "source": [
    "# Louvain Algorithm"
   ],
   "metadata": {}
  },
  {
   "cell_type": "code",
   "execution_count": 1,
   "source": [
    "from pyspark import SparkConf, SparkContext\r\n",
    "from pyspark.sql import SparkSession\r\n",
    "\r\n",
    "# Create spark context\r\n",
    "conf = SparkConf().setAll([('spark.driver.memory','20g')])\r\n",
    "sc = SparkContext(conf=conf)\r\n",
    "spark = SparkSession.builder.getOrCreate()\r\n",
    "sc"
   ],
   "outputs": [
    {
     "output_type": "execute_result",
     "data": {
      "text/plain": [
       "<SparkContext master=local[*] appName=pyspark-shell>"
      ],
      "text/html": [
       "\n",
       "        <div>\n",
       "            <p><b>SparkContext</b></p>\n",
       "\n",
       "            <p><a href=\"http://192.168.1.107:4040\">Spark UI</a></p>\n",
       "\n",
       "            <dl>\n",
       "              <dt>Version</dt>\n",
       "                <dd><code>v2.4.7</code></dd>\n",
       "              <dt>Master</dt>\n",
       "                <dd><code>local[*]</code></dd>\n",
       "              <dt>AppName</dt>\n",
       "                <dd><code>pyspark-shell</code></dd>\n",
       "            </dl>\n",
       "        </div>\n",
       "        "
      ]
     },
     "metadata": {},
     "execution_count": 1
    }
   ],
   "metadata": {}
  },
  {
   "cell_type": "code",
   "execution_count": 2,
   "source": [
    "import pandas as pd\r\n",
    "import numpy as np\r\n",
    "import networkx as nx\r\n",
    "import matplotlib.pyplot as plt\r\n",
    "import pickle\r\n",
    "from tqdm import tqdm\r\n",
    "\r\n",
    "graph_df = spark.read.parquet(\"../data/export/subreddit_100_v2.parquet\")\r\n",
    "graph_df.createOrReplaceTempView(\"comments\")"
   ],
   "outputs": [],
   "metadata": {}
  },
  {
   "cell_type": "code",
   "execution_count": 3,
   "source": [
    "spark.sql(\"SELECT COUNT(*) FROM comments\").show()"
   ],
   "outputs": [
    {
     "output_type": "stream",
     "name": "stdout",
     "text": [
      "+--------+\n",
      "|count(1)|\n",
      "+--------+\n",
      "|43487526|\n",
      "+--------+\n",
      "\n"
     ]
    }
   ],
   "metadata": {}
  },
  {
   "cell_type": "code",
   "execution_count": 4,
   "source": [
    "spark.sql(\"SELECT * FROM comments LIMIT 1\").toPandas()"
   ],
   "outputs": [
    {
     "output_type": "execute_result",
     "data": {
      "text/plain": [
       "        id    link_id   parent_id created_utc      author author_fullname  \\\n",
       "0  epueh5f  t3_bvwsxh  t1_epue3o2  1559508424  JuliaH7931       t2_10003s   \n",
       "\n",
       "  subreddit_id  subreddit  subreddit_num_comments  subreddit_ranking score  \\\n",
       "0     t5_2qh1i  AskReddit                 7292189                  1     1   \n",
       "\n",
       "  controversiality stickied  t_user_sub_comments  \n",
       "0                0    false                    1  "
      ],
      "text/html": [
       "<div>\n",
       "<style scoped>\n",
       "    .dataframe tbody tr th:only-of-type {\n",
       "        vertical-align: middle;\n",
       "    }\n",
       "\n",
       "    .dataframe tbody tr th {\n",
       "        vertical-align: top;\n",
       "    }\n",
       "\n",
       "    .dataframe thead th {\n",
       "        text-align: right;\n",
       "    }\n",
       "</style>\n",
       "<table border=\"1\" class=\"dataframe\">\n",
       "  <thead>\n",
       "    <tr style=\"text-align: right;\">\n",
       "      <th></th>\n",
       "      <th>id</th>\n",
       "      <th>link_id</th>\n",
       "      <th>parent_id</th>\n",
       "      <th>created_utc</th>\n",
       "      <th>author</th>\n",
       "      <th>author_fullname</th>\n",
       "      <th>subreddit_id</th>\n",
       "      <th>subreddit</th>\n",
       "      <th>subreddit_num_comments</th>\n",
       "      <th>subreddit_ranking</th>\n",
       "      <th>score</th>\n",
       "      <th>controversiality</th>\n",
       "      <th>stickied</th>\n",
       "      <th>t_user_sub_comments</th>\n",
       "    </tr>\n",
       "  </thead>\n",
       "  <tbody>\n",
       "    <tr>\n",
       "      <th>0</th>\n",
       "      <td>epueh5f</td>\n",
       "      <td>t3_bvwsxh</td>\n",
       "      <td>t1_epue3o2</td>\n",
       "      <td>1559508424</td>\n",
       "      <td>JuliaH7931</td>\n",
       "      <td>t2_10003s</td>\n",
       "      <td>t5_2qh1i</td>\n",
       "      <td>AskReddit</td>\n",
       "      <td>7292189</td>\n",
       "      <td>1</td>\n",
       "      <td>1</td>\n",
       "      <td>0</td>\n",
       "      <td>false</td>\n",
       "      <td>1</td>\n",
       "    </tr>\n",
       "  </tbody>\n",
       "</table>\n",
       "</div>"
      ]
     },
     "metadata": {},
     "execution_count": 4
    }
   ],
   "metadata": {}
  },
  {
   "cell_type": "code",
   "execution_count": 5,
   "source": [
    "# identify & remove bots - \r\n",
    "# could also use highest node degree\r\n",
    "\r\n",
    "query = \"\"\"\r\n",
    "\r\n",
    "    WITH cte_distinct AS (\r\n",
    "        SELECT DISTINCT\r\n",
    "            author,\r\n",
    "            author_fullname,\r\n",
    "            subreddit\r\n",
    "        FROM comments\r\n",
    "    )\r\n",
    "    \r\n",
    "    SELECT\r\n",
    "        author,\r\n",
    "        author_fullname,\r\n",
    "        COUNT(*) num_counts\r\n",
    "    FROM cte_distinct\r\n",
    "    GROUP BY 1,2\r\n",
    "    ORDER BY num_counts DESC\r\n",
    "\r\n",
    "\"\"\"\r\n",
    "\r\n",
    "user_submissions_df = spark.sql(query).toPandas()\r\n",
    "num_sub_bins_series = user_submissions_df['num_counts'].value_counts(ascending=True, bins=50).cumsum()\r\n",
    "cutoff = num_sub_bins_series.quantile(0.75)\r\n",
    "print(\"cut-off:\", cutoff)\r\n",
    "\r\n",
    "results = num_sub_bins_series[num_sub_bins_series > cutoff]\r\n",
    "max_sub_count = int(np.ceil(results.index.to_tuples().max()[1]))\r\n",
    "print(\"max subreddit threshold:\", max_sub_count)\r\n",
    "\r\n",
    "results"
   ],
   "outputs": [
    {
     "output_type": "stream",
     "name": "stdout",
     "text": [
      "cut-off: 2248.75\n",
      "max subreddit threshold: 27\n"
     ]
    },
    {
     "output_type": "execute_result",
     "data": {
      "text/plain": [
       "(24.52, 26.48]       2457\n",
       "(22.56, 24.52]       3734\n",
       "(20.6, 22.56]        5710\n",
       "(18.64, 20.6]        8915\n",
       "(16.68, 18.64]      14229\n",
       "(14.72, 16.68]      23233\n",
       "(12.76, 14.72]      38719\n",
       "(10.8, 12.76]       65445\n",
       "(8.84, 10.8]       113242\n",
       "(6.88, 8.84]       202587\n",
       "(4.92, 6.88]       387306\n",
       "(2.96, 4.92]       857819\n",
       "(0.901, 2.96]     3225996\n",
       "Name: num_counts, dtype: int64"
      ]
     },
     "metadata": {},
     "execution_count": 5
    }
   ],
   "metadata": {}
  },
  {
   "cell_type": "code",
   "execution_count": 6,
   "source": [
    "user_submissions_df.head()"
   ],
   "outputs": [
    {
     "output_type": "execute_result",
     "data": {
      "text/plain": [
       "                 author author_fullname  num_counts\n",
       "0               nkid299      t2_30k2nng          99\n",
       "1         AutoModerator        t2_6l4z3          89\n",
       "2             BadDadBot     t2_3vmgbuw8          87\n",
       "3  WaitingToBeTriggered     t2_3qhv112i          87\n",
       "4      LeEpicRedditor69     t2_3y359z0f          86"
      ],
      "text/html": [
       "<div>\n",
       "<style scoped>\n",
       "    .dataframe tbody tr th:only-of-type {\n",
       "        vertical-align: middle;\n",
       "    }\n",
       "\n",
       "    .dataframe tbody tr th {\n",
       "        vertical-align: top;\n",
       "    }\n",
       "\n",
       "    .dataframe thead th {\n",
       "        text-align: right;\n",
       "    }\n",
       "</style>\n",
       "<table border=\"1\" class=\"dataframe\">\n",
       "  <thead>\n",
       "    <tr style=\"text-align: right;\">\n",
       "      <th></th>\n",
       "      <th>author</th>\n",
       "      <th>author_fullname</th>\n",
       "      <th>num_counts</th>\n",
       "    </tr>\n",
       "  </thead>\n",
       "  <tbody>\n",
       "    <tr>\n",
       "      <th>0</th>\n",
       "      <td>nkid299</td>\n",
       "      <td>t2_30k2nng</td>\n",
       "      <td>99</td>\n",
       "    </tr>\n",
       "    <tr>\n",
       "      <th>1</th>\n",
       "      <td>AutoModerator</td>\n",
       "      <td>t2_6l4z3</td>\n",
       "      <td>89</td>\n",
       "    </tr>\n",
       "    <tr>\n",
       "      <th>2</th>\n",
       "      <td>BadDadBot</td>\n",
       "      <td>t2_3vmgbuw8</td>\n",
       "      <td>87</td>\n",
       "    </tr>\n",
       "    <tr>\n",
       "      <th>3</th>\n",
       "      <td>WaitingToBeTriggered</td>\n",
       "      <td>t2_3qhv112i</td>\n",
       "      <td>87</td>\n",
       "    </tr>\n",
       "    <tr>\n",
       "      <th>4</th>\n",
       "      <td>LeEpicRedditor69</td>\n",
       "      <td>t2_3y359z0f</td>\n",
       "      <td>86</td>\n",
       "    </tr>\n",
       "  </tbody>\n",
       "</table>\n",
       "</div>"
      ]
     },
     "metadata": {},
     "execution_count": 6
    }
   ],
   "metadata": {}
  },
  {
   "cell_type": "code",
   "execution_count": 7,
   "source": [
    "%%time\r\n",
    "\r\n",
    "try: del user_submissions_df \r\n",
    "except: pass\r\n",
    "\r\n",
    "min_comments = 5\r\n",
    "\r\n",
    "query = f\"\"\"\r\n",
    "\r\n",
    "    -- finds distinct user-subreddit associations\r\n",
    "    WITH cte_distinct AS (  \r\n",
    "        SELECT DISTINCT\r\n",
    "            author,\r\n",
    "            author_fullname,\r\n",
    "            subreddit\r\n",
    "        FROM comments\r\n",
    "    ),\r\n",
    "    \r\n",
    "    -- finds users that have commented on less than `max_sub_count` distinct subreddits\r\n",
    "    cte_cut AS (   \r\n",
    "        SELECT\r\n",
    "            author,\r\n",
    "            author_fullname,\r\n",
    "            COUNT(*) num_counts\r\n",
    "        FROM cte_distinct\r\n",
    "        GROUP BY 1,2\r\n",
    "        HAVING num_counts < {max_sub_count}\r\n",
    "    )\r\n",
    "    \r\n",
    "    -- finds distinct user-subreddit associations where they have commented at least `min_comments` times\r\n",
    "    -- & have not posted on more than `max_sub_count` distinct subreddits\r\n",
    "    SELECT DISTINCT\r\n",
    "        c.author,\r\n",
    "        c.author_fullname,\r\n",
    "        c.subreddit,\r\n",
    "        c.subreddit_ranking,\r\n",
    "        c.t_user_sub_comments,\r\n",
    "        cte_cut.num_counts subreddits_followed\r\n",
    "    FROM comments c\r\n",
    "    INNER JOIN cte_cut ON cte_cut.author_fullname = c.author_fullname\r\n",
    "    WHERE c.t_user_sub_comments >= {min_comments}\r\n",
    "\r\n",
    "-- note: subreddits_followed does not take into account min_comments\r\n",
    "\r\n",
    "\"\"\"\r\n",
    "\r\n",
    "subset_sdf = spark.sql(query)\r\n",
    "# subset_sdf.write.parquet(\"../data/export/filtered_dataset_v2.parquet\", compression='snappy')\r\n",
    "\r\n",
    "subset_df = subset_sdf.toPandas()\r\n",
    "\r\n",
    "# subset_df = spark.sql(\"SELECT * FROM comments\").sample(withReplacement=False, fraction=0.01).toPandas()\r\n",
    "# subset_df = subset_df.groupby(['author_fullname', 'subreddit'], as_index=False)['id'].count().rename(columns={'id':'num_comments'})\r\n",
    "# subset_df = spark.sql(\"SELECT DISTINCT author_fullname, subreddit FROM comments WHERE t_user_sub_comments >= 3\").toPandas()\r\n",
    "print(len(subset_df))\r\n",
    "subset_df.head()"
   ],
   "outputs": [
    {
     "output_type": "stream",
     "name": "stdout",
     "text": [
      "1470229\n",
      "CPU times: user 4.25 s, sys: 47.9 ms, total: 4.3 s\n",
      "Wall time: 14.6 s\n"
     ]
    },
    {
     "output_type": "execute_result",
     "data": {
      "text/plain": [
       "             author author_fullname      subreddit  subreddit_ranking  \\\n",
       "0   Flaming_Dorito_     t2_1010sbi5        RoastMe                 41   \n",
       "1  iammesowhoareyou       t2_102nty  AmItheAsshole                  7   \n",
       "2    PsystrikeSmash       t2_102znx      AskReddit                  1   \n",
       "3    PsystrikeSmash       t2_102znx      teenagers                  3   \n",
       "4        bluewave41       t2_103nb8  AmItheAsshole                  7   \n",
       "\n",
       "   t_user_sub_comments  subreddits_followed  \n",
       "0                    5                    9  \n",
       "1                   10                    1  \n",
       "2                    8                    6  \n",
       "3                   13                    6  \n",
       "4                   18                    3  "
      ],
      "text/html": [
       "<div>\n",
       "<style scoped>\n",
       "    .dataframe tbody tr th:only-of-type {\n",
       "        vertical-align: middle;\n",
       "    }\n",
       "\n",
       "    .dataframe tbody tr th {\n",
       "        vertical-align: top;\n",
       "    }\n",
       "\n",
       "    .dataframe thead th {\n",
       "        text-align: right;\n",
       "    }\n",
       "</style>\n",
       "<table border=\"1\" class=\"dataframe\">\n",
       "  <thead>\n",
       "    <tr style=\"text-align: right;\">\n",
       "      <th></th>\n",
       "      <th>author</th>\n",
       "      <th>author_fullname</th>\n",
       "      <th>subreddit</th>\n",
       "      <th>subreddit_ranking</th>\n",
       "      <th>t_user_sub_comments</th>\n",
       "      <th>subreddits_followed</th>\n",
       "    </tr>\n",
       "  </thead>\n",
       "  <tbody>\n",
       "    <tr>\n",
       "      <th>0</th>\n",
       "      <td>Flaming_Dorito_</td>\n",
       "      <td>t2_1010sbi5</td>\n",
       "      <td>RoastMe</td>\n",
       "      <td>41</td>\n",
       "      <td>5</td>\n",
       "      <td>9</td>\n",
       "    </tr>\n",
       "    <tr>\n",
       "      <th>1</th>\n",
       "      <td>iammesowhoareyou</td>\n",
       "      <td>t2_102nty</td>\n",
       "      <td>AmItheAsshole</td>\n",
       "      <td>7</td>\n",
       "      <td>10</td>\n",
       "      <td>1</td>\n",
       "    </tr>\n",
       "    <tr>\n",
       "      <th>2</th>\n",
       "      <td>PsystrikeSmash</td>\n",
       "      <td>t2_102znx</td>\n",
       "      <td>AskReddit</td>\n",
       "      <td>1</td>\n",
       "      <td>8</td>\n",
       "      <td>6</td>\n",
       "    </tr>\n",
       "    <tr>\n",
       "      <th>3</th>\n",
       "      <td>PsystrikeSmash</td>\n",
       "      <td>t2_102znx</td>\n",
       "      <td>teenagers</td>\n",
       "      <td>3</td>\n",
       "      <td>13</td>\n",
       "      <td>6</td>\n",
       "    </tr>\n",
       "    <tr>\n",
       "      <th>4</th>\n",
       "      <td>bluewave41</td>\n",
       "      <td>t2_103nb8</td>\n",
       "      <td>AmItheAsshole</td>\n",
       "      <td>7</td>\n",
       "      <td>18</td>\n",
       "      <td>3</td>\n",
       "    </tr>\n",
       "  </tbody>\n",
       "</table>\n",
       "</div>"
      ]
     },
     "metadata": {},
     "execution_count": 7
    }
   ],
   "metadata": {
    "tags": []
   }
  },
  {
   "cell_type": "code",
   "execution_count": 8,
   "source": [
    "subreddit_rankings_df = subset_df[['subreddit', 'subreddit_ranking']].drop_duplicates(ignore_index=True).sort_values(by='subreddit_ranking')\r\n",
    "subreddit_rankings_df"
   ],
   "outputs": [
    {
     "output_type": "execute_result",
     "data": {
      "text/plain": [
       "               subreddit  subreddit_ranking\n",
       "2              AskReddit                  1\n",
       "23                   nba                  2\n",
       "3              teenagers                  3\n",
       "29              politics                  4\n",
       "19                 memes                  5\n",
       "..                   ...                ...\n",
       "54  iamatotalpieceofshit                 96\n",
       "33                    de                 97\n",
       "87              buildapc                 98\n",
       "21                   PS4                 99\n",
       "98                canada                100\n",
       "\n",
       "[100 rows x 2 columns]"
      ],
      "text/html": [
       "<div>\n",
       "<style scoped>\n",
       "    .dataframe tbody tr th:only-of-type {\n",
       "        vertical-align: middle;\n",
       "    }\n",
       "\n",
       "    .dataframe tbody tr th {\n",
       "        vertical-align: top;\n",
       "    }\n",
       "\n",
       "    .dataframe thead th {\n",
       "        text-align: right;\n",
       "    }\n",
       "</style>\n",
       "<table border=\"1\" class=\"dataframe\">\n",
       "  <thead>\n",
       "    <tr style=\"text-align: right;\">\n",
       "      <th></th>\n",
       "      <th>subreddit</th>\n",
       "      <th>subreddit_ranking</th>\n",
       "    </tr>\n",
       "  </thead>\n",
       "  <tbody>\n",
       "    <tr>\n",
       "      <th>2</th>\n",
       "      <td>AskReddit</td>\n",
       "      <td>1</td>\n",
       "    </tr>\n",
       "    <tr>\n",
       "      <th>23</th>\n",
       "      <td>nba</td>\n",
       "      <td>2</td>\n",
       "    </tr>\n",
       "    <tr>\n",
       "      <th>3</th>\n",
       "      <td>teenagers</td>\n",
       "      <td>3</td>\n",
       "    </tr>\n",
       "    <tr>\n",
       "      <th>29</th>\n",
       "      <td>politics</td>\n",
       "      <td>4</td>\n",
       "    </tr>\n",
       "    <tr>\n",
       "      <th>19</th>\n",
       "      <td>memes</td>\n",
       "      <td>5</td>\n",
       "    </tr>\n",
       "    <tr>\n",
       "      <th>...</th>\n",
       "      <td>...</td>\n",
       "      <td>...</td>\n",
       "    </tr>\n",
       "    <tr>\n",
       "      <th>54</th>\n",
       "      <td>iamatotalpieceofshit</td>\n",
       "      <td>96</td>\n",
       "    </tr>\n",
       "    <tr>\n",
       "      <th>33</th>\n",
       "      <td>de</td>\n",
       "      <td>97</td>\n",
       "    </tr>\n",
       "    <tr>\n",
       "      <th>87</th>\n",
       "      <td>buildapc</td>\n",
       "      <td>98</td>\n",
       "    </tr>\n",
       "    <tr>\n",
       "      <th>21</th>\n",
       "      <td>PS4</td>\n",
       "      <td>99</td>\n",
       "    </tr>\n",
       "    <tr>\n",
       "      <th>98</th>\n",
       "      <td>canada</td>\n",
       "      <td>100</td>\n",
       "    </tr>\n",
       "  </tbody>\n",
       "</table>\n",
       "<p>100 rows × 2 columns</p>\n",
       "</div>"
      ]
     },
     "metadata": {},
     "execution_count": 8
    }
   ],
   "metadata": {}
  },
  {
   "cell_type": "code",
   "execution_count": 9,
   "source": [
    "%%time\r\n",
    "\r\n",
    "user_nodes = subset_df['author_fullname'].unique()\r\n",
    "subreddit_nodes = subset_df['subreddit'].unique()\r\n",
    "edges = [(u, s) for u, s in zip(subset_df['author_fullname'].values, subset_df['subreddit'].values)]\r\n",
    "\r\n",
    "print(\"Unique users:\", len(user_nodes))\r\n",
    "print(\"Unique subreddits:\", len(subreddit_nodes))\r\n",
    "print(\"Num edges:\", len(edges))"
   ],
   "outputs": [
    {
     "output_type": "stream",
     "name": "stdout",
     "text": [
      "Unique users: 893043\n",
      "Unique subreddits: 100\n",
      "Num edges: 1470229\n",
      "CPU times: user 390 ms, sys: 7.57 ms, total: 398 ms\n",
      "Wall time: 396 ms\n"
     ]
    }
   ],
   "metadata": {}
  },
  {
   "cell_type": "code",
   "execution_count": 10,
   "source": [
    "%%time\r\n",
    "\r\n",
    "from networkx.algorithms import bipartite\r\n",
    "\r\n",
    "B = nx.Graph()\r\n",
    "B.add_nodes_from(user_nodes, bipartite='user')\r\n",
    "B.add_nodes_from(subreddit_nodes, bipartite='subreddit')\r\n",
    "B.add_edges_from(edges)\r\n",
    "print(nx.info(B))"
   ],
   "outputs": [
    {
     "output_type": "stream",
     "name": "stdout",
     "text": [
      "Name: \n",
      "Type: Graph\n",
      "Number of nodes: 893143\n",
      "Number of edges: 1470229\n",
      "Average degree:   3.2923\n",
      "CPU times: user 3.55 s, sys: 91.9 ms, total: 3.64 s\n",
      "Wall time: 3.64 s\n"
     ]
    }
   ],
   "metadata": {}
  },
  {
   "cell_type": "markdown",
   "source": [
    "## Louvain Algorithm"
   ],
   "metadata": {}
  },
  {
   "cell_type": "code",
   "execution_count": 11,
   "source": [
    "%%time\r\n",
    "\r\n",
    "import community\r\n",
    "from networkx.algorithms.bipartite.projection import overlap_weighted_projected_graph\r\n",
    "\r\n",
    "G = overlap_weighted_projected_graph(B, subreddit_nodes, jaccard=True)\r\n",
    "\r\n",
    "print(nx.info(G))"
   ],
   "outputs": [
    {
     "output_type": "stream",
     "name": "stdout",
     "text": [
      "Name: \n",
      "Type: Graph\n",
      "Number of nodes: 100\n",
      "Number of edges: 4814\n",
      "Average degree:  96.2800\n",
      "CPU times: user 31.7 s, sys: 3.91 ms, total: 31.7 s\n",
      "Wall time: 31.7 s\n"
     ]
    }
   ],
   "metadata": {}
  },
  {
   "cell_type": "code",
   "execution_count": 12,
   "source": [
    "results_list = sorted(list(G.edges(data=True)), key=lambda x: x[2]['weight'], reverse=True)\r\n",
    "results_list[:10]"
   ],
   "outputs": [
    {
     "output_type": "execute_result",
     "data": {
      "text/plain": [
       "[('worldnews', 'news', {'weight': 0.15952791406975203}),\n",
       " ('memes', 'dankmemes', {'weight': 0.14537077491361164}),\n",
       " ('funny', 'pics', {'weight': 0.13671098288432298}),\n",
       " ('fo76', 'Market76', {'weight': 0.12769520619635755}),\n",
       " ('worldnews', 'politics', {'weight': 0.11230484409393723}),\n",
       " ('worldnews', 'todayilearned', {'weight': 0.10655380450989838}),\n",
       " ('teenagers', 'memes', {'weight': 0.10558927668184118}),\n",
       " ('politics', 'news', {'weight': 0.1017155451749264}),\n",
       " ('teenagers', 'dankmemes', {'weight': 0.10084801349325337}),\n",
       " ('pics', 'todayilearned', {'weight': 0.0991111587063611})]"
      ]
     },
     "metadata": {},
     "execution_count": 12
    }
   ],
   "metadata": {}
  },
  {
   "cell_type": "code",
   "execution_count": 13,
   "source": [
    "partition = community.best_partition(G, weight='weight', resolution=0.5)\r\n",
    "print(\"modularity:\", community.modularity(partition, G, weight='weight'))\r\n",
    "print(\"number of communities:\", len(set(partition.values())))"
   ],
   "outputs": [
    {
     "output_type": "stream",
     "name": "stdout",
     "text": [
      "modularity: 0.13487432677172495\n",
      "number of communities: 22\n"
     ]
    }
   ],
   "metadata": {}
  },
  {
   "cell_type": "code",
   "execution_count": 14,
   "source": [
    "# top 5\r\n",
    "# in same community, list top 5 most popular (based on num_comments)\r\n",
    "\r\n",
    "def get_louvain_subreddits(subreddit, partition_dict):\r\n",
    "    \r\n",
    "    community = partition_dict[subreddit]\r\n",
    "    subreddits = [sub for sub, com in partition_dict.items() if com == community]\r\n",
    "    \r\n",
    "    return subreddits\r\n",
    "\r\n",
    "get_louvain_subreddits('MMA', partition)"
   ],
   "outputs": [
    {
     "output_type": "execute_result",
     "data": {
      "text/plain": [
       "['formula1',\n",
       " 'FIFA',\n",
       " 'SquaredCircle',\n",
       " 'nba',\n",
       " 'baseball',\n",
       " 'fantasybaseball',\n",
       " 'barstoolsports',\n",
       " 'soccer',\n",
       " 'reddevils',\n",
       " 'lakers',\n",
       " 'hockey',\n",
       " 'Cricket',\n",
       " 'nfl',\n",
       " 'hiphopheads',\n",
       " 'MMA',\n",
       " 'torontoraptors',\n",
       " 'canada',\n",
       " 'NYYankees']"
      ]
     },
     "metadata": {},
     "execution_count": 14
    }
   ],
   "metadata": {}
  },
  {
   "cell_type": "code",
   "execution_count": 15,
   "source": [
    "def get_louvain_preds(subreddit_tuple_list, partition, subreddit_rankings_df):\r\n",
    "    \r\n",
    "    \"\"\"subreddit_tuple_list: list of (subreddit, num_comments by user) tuples\"\"\"\r\n",
    "    \r\n",
    "    already_commented = [x[0] for x in subreddit_tuple_list]\r\n",
    "    fav_subreddit = max(subreddit_tuple_list, key=lambda x: x[1])[0]\r\n",
    "    subreddits = get_louvain_subreddits(fav_subreddit, partition)\r\n",
    "    filtered_subreddits = list(set(subreddits).difference(set(already_commented)))\r\n",
    "    ranked_subreddits = subreddit_rankings_df[subreddit_rankings_df['subreddit'].isin(filtered_subreddits)].sort_values(by='subreddit_ranking')\r\n",
    "\r\n",
    "    return list(ranked_subreddits['subreddit'][:10])\r\n",
    "    \r\n",
    "get_louvain_preds([('nba', 34), ('apexlegends', 12)], partition, subreddit_rankings_df)"
   ],
   "outputs": [
    {
     "output_type": "execute_result",
     "data": {
      "text/plain": [
       "['soccer',\n",
       " 'SquaredCircle',\n",
       " 'Cricket',\n",
       " 'hockey',\n",
       " 'nfl',\n",
       " 'MMA',\n",
       " 'formula1',\n",
       " 'reddevils',\n",
       " 'baseball',\n",
       " 'FIFA']"
      ]
     },
     "metadata": {},
     "execution_count": 15
    }
   ],
   "metadata": {}
  },
  {
   "cell_type": "code",
   "execution_count": 16,
   "source": [
    "def get_louvain_preds_all(subreddit_tuple_list, partition, subreddit_rankings_df):\r\n",
    "    \r\n",
    "    \"\"\"subreddit_tuple_list: list of (subreddit, num_comments by user) tuples\"\"\"\r\n",
    "    \r\n",
    "    already_commented = [x[0] for x in subreddit_tuple_list]\r\n",
    "    fav_subreddit = max(subreddit_tuple_list, key=lambda x: x[1])[0]\r\n",
    "    subreddits = get_louvain_subreddits(fav_subreddit, partition)\r\n",
    "    filtered_subreddits = list(set(subreddits).difference(set(already_commented)))\r\n",
    "    ranked_subreddits = subreddit_rankings_df[subreddit_rankings_df['subreddit'].isin(filtered_subreddits)].sort_values(by='subreddit_ranking')\r\n",
    "\r\n",
    "    return list(ranked_subreddits['subreddit'])\r\n",
    "    \r\n",
    "get_louvain_preds([('nba', 34), ('apexlegends', 12)], partition, subreddit_rankings_df)"
   ],
   "outputs": [
    {
     "output_type": "execute_result",
     "data": {
      "text/plain": [
       "['soccer',\n",
       " 'SquaredCircle',\n",
       " 'Cricket',\n",
       " 'hockey',\n",
       " 'nfl',\n",
       " 'MMA',\n",
       " 'formula1',\n",
       " 'reddevils',\n",
       " 'baseball',\n",
       " 'FIFA']"
      ]
     },
     "metadata": {},
     "execution_count": 16
    }
   ],
   "metadata": {}
  },
  {
   "cell_type": "markdown",
   "source": [
    "## Evaluation"
   ],
   "metadata": {}
  },
  {
   "cell_type": "code",
   "execution_count": 17,
   "source": [
    "masked_test = pd.read_csv(\"../data/evaluation/v2/test_2k_mask_answer_v2.csv\")[['author_fullname', 'subreddit']]\r\n",
    "masked_dict = dict(zip(masked_test['author_fullname'], masked_test['subreddit']))\r\n",
    "\r\n",
    "test_data = pd.read_csv(\"../data/evaluation/v2/test_2k_unmasked.csv\")\r\n",
    "\r\n",
    "user_history = test_data.groupby(\r\n",
    "    'author_fullname'\r\n",
    ")[['subreddit', 't_user_sub_comments']].apply(\r\n",
    "    lambda x: list(map(tuple, x.values))\r\n",
    ").to_dict()"
   ],
   "outputs": [],
   "metadata": {}
  },
  {
   "cell_type": "code",
   "execution_count": 18,
   "source": [
    "%%time\r\n",
    "\r\n",
    "results = pd.DataFrame()\r\n",
    "results['author_fullname'] = list(user_history.keys())\r\n",
    "results['history'] = results['author_fullname'].apply(lambda x: user_history[x])\r\n",
    "results['pred_list'] = results['history'].apply(\r\n",
    "    lambda x: get_louvain_preds(x, partition, subreddit_rankings_df)\r\n",
    ")\r\n",
    "results['masked'] = results['author_fullname'].apply(lambda x: masked_dict[x])\r\n",
    "results['top1'] = results.apply(lambda x: x['masked'] in x['pred_list'][:1], axis=1)\r\n",
    "results['top5'] = results.apply(lambda x: x['masked'] in x['pred_list'][:5], axis=1)\r\n",
    "results['top10'] = results.apply(lambda x: x['masked'] in x['pred_list'][:10], axis=1)\r\n",
    "\r\n",
    "results['community_preds'] = results['history'].apply(\r\n",
    "    lambda x: get_louvain_preds_all(x, partition, subreddit_rankings_df)\r\n",
    ")\r\n",
    "results['in_community'] = results.apply(lambda x: x['masked'] in x['community_preds'], axis=1)\r\n",
    "\r\n",
    "results = results[results['pred_list'].str.len() > 0]\r\n",
    "\r\n",
    "results.head()"
   ],
   "outputs": [
    {
     "output_type": "stream",
     "name": "stdout",
     "text": [
      "CPU times: user 2.42 s, sys: 24.2 ms, total: 2.45 s\n",
      "Wall time: 2.42 s\n"
     ]
    },
    {
     "output_type": "execute_result",
     "data": {
      "text/plain": [
       "  author_fullname                                 history  \\\n",
       "0     t2_106bpk58             [(iamatotalpieceofshit, 5)]   \n",
       "1     t2_10aj9l3k  [(Showerthoughts, 80), (AskReddit, 6)]   \n",
       "3     t2_10ckl1le                             [(tifu, 5)]   \n",
       "4       t2_10fhvx                            [(funny, 5)]   \n",
       "7       t2_10o07a   [(SquaredCircle, 59), (AskReddit, 6)]   \n",
       "\n",
       "                                           pred_list         masked   top1  \\\n",
       "0     [trashy, PublicFreakout, insanepeoplefacebook]       Animemes  False   \n",
       "1                                [mildlyinteresting]     conspiracy  False   \n",
       "3                                  [personalfinance]            PS4  False   \n",
       "4                                        [pics, aww]  AmItheAsshole  False   \n",
       "7  [nba, soccer, Cricket, hockey, nfl, MMA, formu...          Games  False   \n",
       "\n",
       "    top5  top10                                    community_preds  \\\n",
       "0  False  False     [trashy, PublicFreakout, insanepeoplefacebook]   \n",
       "1  False  False                                [mildlyinteresting]   \n",
       "3  False  False                                  [personalfinance]   \n",
       "4  False  False                                        [pics, aww]   \n",
       "7  False  False  [nba, soccer, Cricket, hockey, nfl, MMA, formu...   \n",
       "\n",
       "   in_community  \n",
       "0         False  \n",
       "1         False  \n",
       "3         False  \n",
       "4         False  \n",
       "7         False  "
      ],
      "text/html": [
       "<div>\n",
       "<style scoped>\n",
       "    .dataframe tbody tr th:only-of-type {\n",
       "        vertical-align: middle;\n",
       "    }\n",
       "\n",
       "    .dataframe tbody tr th {\n",
       "        vertical-align: top;\n",
       "    }\n",
       "\n",
       "    .dataframe thead th {\n",
       "        text-align: right;\n",
       "    }\n",
       "</style>\n",
       "<table border=\"1\" class=\"dataframe\">\n",
       "  <thead>\n",
       "    <tr style=\"text-align: right;\">\n",
       "      <th></th>\n",
       "      <th>author_fullname</th>\n",
       "      <th>history</th>\n",
       "      <th>pred_list</th>\n",
       "      <th>masked</th>\n",
       "      <th>top1</th>\n",
       "      <th>top5</th>\n",
       "      <th>top10</th>\n",
       "      <th>community_preds</th>\n",
       "      <th>in_community</th>\n",
       "    </tr>\n",
       "  </thead>\n",
       "  <tbody>\n",
       "    <tr>\n",
       "      <th>0</th>\n",
       "      <td>t2_106bpk58</td>\n",
       "      <td>[(iamatotalpieceofshit, 5)]</td>\n",
       "      <td>[trashy, PublicFreakout, insanepeoplefacebook]</td>\n",
       "      <td>Animemes</td>\n",
       "      <td>False</td>\n",
       "      <td>False</td>\n",
       "      <td>False</td>\n",
       "      <td>[trashy, PublicFreakout, insanepeoplefacebook]</td>\n",
       "      <td>False</td>\n",
       "    </tr>\n",
       "    <tr>\n",
       "      <th>1</th>\n",
       "      <td>t2_10aj9l3k</td>\n",
       "      <td>[(Showerthoughts, 80), (AskReddit, 6)]</td>\n",
       "      <td>[mildlyinteresting]</td>\n",
       "      <td>conspiracy</td>\n",
       "      <td>False</td>\n",
       "      <td>False</td>\n",
       "      <td>False</td>\n",
       "      <td>[mildlyinteresting]</td>\n",
       "      <td>False</td>\n",
       "    </tr>\n",
       "    <tr>\n",
       "      <th>3</th>\n",
       "      <td>t2_10ckl1le</td>\n",
       "      <td>[(tifu, 5)]</td>\n",
       "      <td>[personalfinance]</td>\n",
       "      <td>PS4</td>\n",
       "      <td>False</td>\n",
       "      <td>False</td>\n",
       "      <td>False</td>\n",
       "      <td>[personalfinance]</td>\n",
       "      <td>False</td>\n",
       "    </tr>\n",
       "    <tr>\n",
       "      <th>4</th>\n",
       "      <td>t2_10fhvx</td>\n",
       "      <td>[(funny, 5)]</td>\n",
       "      <td>[pics, aww]</td>\n",
       "      <td>AmItheAsshole</td>\n",
       "      <td>False</td>\n",
       "      <td>False</td>\n",
       "      <td>False</td>\n",
       "      <td>[pics, aww]</td>\n",
       "      <td>False</td>\n",
       "    </tr>\n",
       "    <tr>\n",
       "      <th>7</th>\n",
       "      <td>t2_10o07a</td>\n",
       "      <td>[(SquaredCircle, 59), (AskReddit, 6)]</td>\n",
       "      <td>[nba, soccer, Cricket, hockey, nfl, MMA, formu...</td>\n",
       "      <td>Games</td>\n",
       "      <td>False</td>\n",
       "      <td>False</td>\n",
       "      <td>False</td>\n",
       "      <td>[nba, soccer, Cricket, hockey, nfl, MMA, formu...</td>\n",
       "      <td>False</td>\n",
       "    </tr>\n",
       "  </tbody>\n",
       "</table>\n",
       "</div>"
      ]
     },
     "metadata": {},
     "execution_count": 18
    }
   ],
   "metadata": {}
  },
  {
   "cell_type": "code",
   "execution_count": 19,
   "source": [
    "results['top1'].mean()"
   ],
   "outputs": [
    {
     "output_type": "execute_result",
     "data": {
      "text/plain": [
       "0.1220216606498195"
      ]
     },
     "metadata": {},
     "execution_count": 19
    }
   ],
   "metadata": {}
  },
  {
   "cell_type": "code",
   "execution_count": 20,
   "source": [
    "results['top5'].mean()"
   ],
   "outputs": [
    {
     "output_type": "execute_result",
     "data": {
      "text/plain": [
       "0.30180505415162456"
      ]
     },
     "metadata": {},
     "execution_count": 20
    }
   ],
   "metadata": {}
  },
  {
   "cell_type": "code",
   "execution_count": 21,
   "source": [
    "results['top10'].mean()"
   ],
   "outputs": [
    {
     "output_type": "execute_result",
     "data": {
      "text/plain": [
       "0.3703971119133574"
      ]
     },
     "metadata": {},
     "execution_count": 21
    }
   ],
   "metadata": {}
  },
  {
   "cell_type": "code",
   "execution_count": 22,
   "source": [
    "results['in_community'].mean()"
   ],
   "outputs": [
    {
     "output_type": "execute_result",
     "data": {
      "text/plain": [
       "0.4043321299638989"
      ]
     },
     "metadata": {},
     "execution_count": 22
    }
   ],
   "metadata": {}
  }
 ],
 "metadata": {
  "kernelspec": {
   "display_name": "Python 3",
   "language": "python",
   "name": "python3"
  },
  "language_info": {
   "codemirror_mode": {
    "name": "ipython",
    "version": 3
   },
   "file_extension": ".py",
   "mimetype": "text/x-python",
   "name": "python",
   "nbconvert_exporter": "python",
   "pygments_lexer": "ipython3",
   "version": "3.7.9"
  }
 },
 "nbformat": 4,
 "nbformat_minor": 5
}