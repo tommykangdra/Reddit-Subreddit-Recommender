{
 "cells": [
  {
   "cell_type": "markdown",
   "id": "dominant-product",
   "metadata": {},
   "source": [
    "**Group 4: Subreddit Recommendation with Graph Analysis**\n",
    "\n",
    "Krishnan Ananth-A0218894M\n",
    "\n",
    "Mak Chung Yin - A0218938N\n",
    "\n",
    "Ken Cheah – A0218906Y\n",
    "\n",
    "Liu Siqing - A0127160R\n",
    "\n",
    "Tommy Kangdra - A0218866N\n",
    "\n"
   ]
  },
  {
   "cell_type": "markdown",
   "id": "comic-authentication",
   "metadata": {},
   "source": [
    "# 0. Function"
   ]
  },
  {
   "cell_type": "code",
   "execution_count": 2,
   "id": "inclusive-biodiversity",
   "metadata": {},
   "outputs": [],
   "source": [
    "def get_nodes_from_partition(G, partition):\n",
    "    # Initialize an empty list for nodes to be returned\n",
    "    nodes = []\n",
    "    # Iterate over each node in the graph G\n",
    "    for n in G.nodes():\n",
    "        # Check that the node belongs to the particular partition\n",
    "        if G.nodes[n]['bipartite'] == partition:\n",
    "            # If so, append it to the list of nodes\n",
    "            nodes.append(n)\n",
    "    return nodes"
   ]
  },
  {
   "cell_type": "code",
   "execution_count": 3,
   "id": "interested-invention",
   "metadata": {},
   "outputs": [],
   "source": [
    "def shared_partition_nodes(G, subreddit_list, node2):\n",
    "    # Check that the nodes belong to the same partition\n",
    "    # assert G.nodes[node1]['bipartite'] == G.nodes[node2]['bipartite']\n",
    "\n",
    "    # Get neighbors of node 1: nbrs1\n",
    "    nbrs1 = subreddit_list\n",
    "    # Get neighbors of node 2: nbrs2\n",
    "    nbrs2 = list(G.neighbors(node2))\n",
    "\n",
    "    # Compute the overlap using set intersections\n",
    "    overlap = set(nbrs1).intersection(nbrs2)\n",
    "    union = set(nbrs1).union(nbrs2)\n",
    "    \n",
    "    return overlap, len(union)"
   ]
  },
  {
   "cell_type": "code",
   "execution_count": 4,
   "id": "guilty-fusion",
   "metadata": {},
   "outputs": [],
   "source": [
    "def user_similarity_jacard(G, subreddit_list, user2, len_proj_nodes):\n",
    "    # Check that the nodes belong to the 'users' partition\n",
    "#     assert G.nodes[user1]['bipartite'] == 'user'\n",
    "    assert G.nodes[user2]['bipartite'] == 'user'\n",
    "    \n",
    "    \n",
    "    # Get the set of nodes shared between the two users\n",
    "    shared_nodes, union_length = shared_partition_nodes(G, subreddit_list, user2)    \n",
    "\n",
    "    # Return the fraction of nodes in the projects partition\n",
    "    jacard_value = len(shared_nodes) / union_length\n",
    "\n",
    "    return jacard_value"
   ]
  },
  {
   "cell_type": "code",
   "execution_count": 5,
   "id": "constitutional-notebook",
   "metadata": {},
   "outputs": [],
   "source": [
    "# USING JACARD SIMILARITIES METHOD\n",
    "\n",
    "def most_similar_users_jacard(G, subreddit_list, user_nodes, len_sr_nodes, threshold):\n",
    "    from collections import defaultdict\n",
    "\n",
    "    # Get other nodes from user partition\n",
    "    user_nodes = set(user_nodes)\n",
    "    # user_nodes.remove(user)\n",
    "    \n",
    "    # Create the dictionary: similarities\n",
    "    similarities = defaultdict(list)\n",
    "#     for n in tqdm(user_nodes):\n",
    "    for n in user_nodes:\n",
    "        similarity = user_similarity_jacard(G, subreddit_list, n, len_sr_nodes)\n",
    "        similarities[similarity].append(n)\n",
    "\n",
    "    # Compute maximum similarity score: max_similarity\n",
    "    max_similarity = threshold * max(similarities.keys())\n",
    "    \n",
    "    # Return list of users that share maximal similarity\n",
    "    user_list = [user for (val, user_group) in similarities.items() for user in user_group if val >= max_similarity]\n",
    "    \n",
    "    return user_list, max_similarity"
   ]
  },
  {
   "cell_type": "code",
   "execution_count": 6,
   "id": "exciting-buffer",
   "metadata": {},
   "outputs": [],
   "source": [
    "def most_similar_users_function(G, subreddit_list, user_nodes, len_sr_nodes, threshold):\n",
    "    from collections import defaultdict\n",
    "\n",
    "    # Get other nodes from user partition\n",
    "    user_nodes = set(user_nodes)\n",
    "    # user_nodes.remove(user)\n",
    "    \n",
    "    # Create the dictionary: similarities\n",
    "    similarities = defaultdict(list)\n",
    "#     for n in tqdm(user_nodes):\n",
    "    for n in user_nodes:\n",
    "        similarity = user_similarity_jacard(G, subreddit_list, n, len_sr_nodes)\n",
    "        similarities[similarity].append(n)\n",
    "\n",
    "    # Compute maximum similarity score: max_similarity\n",
    "    max_similarity = threshold * max(similarities.keys())\n",
    "    print('threshold', max_similarity)\n",
    "\n",
    "    user_list = [user for (val, user_group) in similarities.items() for user in user_group if val >= max_similarity]\n",
    "    user_val = [(user,val) for (val, user_group) in similarities.items() for user in user_group if val >= max_similarity]\n",
    "    \n",
    "    users_series = []\n",
    "    val_series = []\n",
    "    for i,v in user_val:\n",
    "        users_series.append(i)\n",
    "        val_series.append(v)\n",
    "    df = pd.DataFrame({'user' : users_series, 'value' : val_series})\n",
    "    df.sort_values('value', ascending = False, inplace = True)\n",
    "    display(df)\n",
    "    \n",
    "    # Return list of users that share maximal similarity\n",
    "    return df"
   ]
  },
  {
   "cell_type": "code",
   "execution_count": 7,
   "id": "violent-perspective",
   "metadata": {},
   "outputs": [],
   "source": [
    "def recommend_repositories(G, subreddit_list, to_user):\n",
    "    # Get the set of repositories that from_user has contributed to\n",
    "    from_repos = subreddit_list\n",
    "    \n",
    "    # Get the set of repositories that to_user has contributed to\n",
    "    all_recommendation = []\n",
    "    \n",
    "    \n",
    "#     for other_user in tqdm(to_user):\n",
    "    for other_user in to_user:\n",
    "        to_repos = set(G.neighbors(other_user))\n",
    "#         print(to_repos)\n",
    "        all_recommendation += to_repos.difference(from_repos)\n",
    "        \n",
    "    \n",
    "    all_recommendation = pd.Series(all_recommendation)\n",
    "        \n",
    "    # Identify repositories that the from_user is connected to that the to_user is not connected to\n",
    "    return all_recommendation.value_counts()[:10]"
   ]
  },
  {
   "cell_type": "code",
   "execution_count": 8,
   "id": "variable-particular",
   "metadata": {},
   "outputs": [],
   "source": [
    "### MAIN FUNCTION - ### \n",
    "\n",
    "\n",
    "def recommendation_collaborative_jaccard(G, subreddit_list, threshold):\n",
    "    user_nodes = get_nodes_from_partition(G, 'user')\n",
    "    len_sr_nodes = len(get_nodes_from_partition(G, 'subreddit'))\n",
    "\n",
    "    users_similar, max_similarity_value = most_similar_users_jacard(G, \n",
    "                                                             subreddit_list, \n",
    "                                                             user_nodes, \n",
    "                                                             len_sr_nodes, \n",
    "                                                             threshold)\n",
    "    \n",
    "    result = recommend_repositories(G, subreddit_list, users_similar)\n",
    "    \n",
    "    return users_similar, max_similarity_value, result"
   ]
  },
  {
   "cell_type": "code",
   "execution_count": 9,
   "id": "reserved-business",
   "metadata": {},
   "outputs": [],
   "source": [
    "def recommend_repositories_user(G, subreddit_list, to_user):\n",
    "    # Get the set of repositories that from_user has contributed to\n",
    "    from_repos = subreddit_list\n",
    "    # Get the set of repositories that to_user has contributed to\n",
    "    all_recommendation = []\n",
    "#     for other_user in tqdm(to_user):\n",
    "    for other_user in to_user:\n",
    "        to_repos = set(G.neighbors(other_user))\n",
    "#         print(to_repos.difference(from_repos))\n",
    "        all_recommendation += to_repos.difference(from_repos)\n",
    "        \n",
    "    \n",
    "    all_recommendation = pd.Series(all_recommendation)\n",
    "        \n",
    "    # Identify repositories that the from_user is connected to that the to_user is not connected to\n",
    "    return all_recommendation.value_counts()"
   ]
  },
  {
   "cell_type": "markdown",
   "id": "interpreted-supplier",
   "metadata": {},
   "source": [
    "# 1. Loading the Data into Graph"
   ]
  },
  {
   "cell_type": "code",
   "execution_count": 35,
   "id": "grateful-health",
   "metadata": {},
   "outputs": [],
   "source": [
    "from tqdm.notebook import tqdm\n",
    "import pandas as pd\n",
    "import numpy as np\n",
    "import networkx as nx"
   ]
  },
  {
   "cell_type": "code",
   "execution_count": 36,
   "id": "traditional-greek",
   "metadata": {},
   "outputs": [],
   "source": [
    "df_user100 = pd.read_csv('./Testing and Validation/v2/v2/all_exc_2k_v2.csv')"
   ]
  },
  {
   "cell_type": "code",
   "execution_count": 37,
   "id": "later-authorization",
   "metadata": {},
   "outputs": [
    {
     "name": "stderr",
     "output_type": "stream",
     "text": [
      "100%|█████████████████████████████████████████████████████████████████████| 854187/854187 [00:00<00:00, 1325700.90it/s]\n",
      "100%|█████████████████████████████████████████████████████████████████████| 854187/854187 [00:00<00:00, 1331859.22it/s]\n"
     ]
    }
   ],
   "source": [
    "from tqdm import tqdm\n",
    "tqdm.pandas()\n",
    "df_user100.author = df_user100.author.progress_apply(lambda x: 'us_' + x)\n",
    "df_user100.subreddit = df_user100.subreddit.progress_apply(lambda x: 'sr_' + x)"
   ]
  },
  {
   "cell_type": "code",
   "execution_count": 38,
   "id": "flying-vegetarian",
   "metadata": {},
   "outputs": [
    {
     "name": "stdout",
     "output_type": "stream",
     "text": [
      "280981 100\n"
     ]
    }
   ],
   "source": [
    "nodes_a = df_user100.author.unique()\n",
    "nodes_sr = df_user100.subreddit.unique()\n",
    "print(len(nodes_a), len(nodes_sr))"
   ]
  },
  {
   "cell_type": "code",
   "execution_count": 39,
   "id": "exceptional-ambassador",
   "metadata": {},
   "outputs": [
    {
     "name": "stderr",
     "output_type": "stream",
     "text": [
      "854187it [00:00, 2087588.83it/s]"
     ]
    },
    {
     "name": "stdout",
     "output_type": "stream",
     "text": [
      "854187\n"
     ]
    },
    {
     "name": "stderr",
     "output_type": "stream",
     "text": [
      "\n"
     ]
    }
   ],
   "source": [
    "pair_us = []\n",
    "for i in tqdm(zip(df_user100.author, df_user100.subreddit)):\n",
    "    pair_us.append(i)\n",
    "print(len(pair_us))"
   ]
  },
  {
   "cell_type": "code",
   "execution_count": 40,
   "id": "extreme-merit",
   "metadata": {},
   "outputs": [
    {
     "name": "stderr",
     "output_type": "stream",
     "text": [
      "100%|██████████████████████████████████████████████████████████████████████| 280981/280981 [00:00<00:00, 515099.23it/s]\n",
      "100%|█████████████████████████████████████████████████████████████████████████████| 100/100 [00:00<00:00, 99793.10it/s]\n"
     ]
    }
   ],
   "source": [
    "# Adding Nodes with the status \n",
    "nodes_a_tupple = [] \n",
    "nodes_sr_tupple = []\n",
    "for nodes in tqdm(nodes_a):\n",
    "    nodes_a_tupple.append((nodes, {'bipartite' : 'user'}))\n",
    "        \n",
    "for nodes in tqdm(nodes_sr):\n",
    "    nodes_sr_tupple.append((nodes, {'bipartite' : 'subreddit'}))"
   ]
  },
  {
   "cell_type": "code",
   "execution_count": 41,
   "id": "casual-chaos",
   "metadata": {},
   "outputs": [],
   "source": [
    "import networkx as nx\n",
    "G = nx.Graph()\n",
    "\n",
    "G.add_nodes_from(nodes_a_tupple)\n",
    "G.add_nodes_from(nodes_sr_tupple)\n",
    "G.add_edges_from(pair_us)"
   ]
  },
  {
   "cell_type": "markdown",
   "id": "linear-devon",
   "metadata": {},
   "source": [
    "# 2. Evaluation on Masked Data"
   ]
  },
  {
   "cell_type": "code",
   "execution_count": 42,
   "id": "classified-amsterdam",
   "metadata": {},
   "outputs": [],
   "source": [
    "test_df = pd.read_csv('./Testing and Validation/v2/v2/test_2k_unmasked.csv')\n",
    "answer_df = pd.read_csv('./Testing and Validation/v2/v2/test_2k_mask_answer_v2.csv')"
   ]
  },
  {
   "cell_type": "code",
   "execution_count": 43,
   "id": "liberal-bullet",
   "metadata": {},
   "outputs": [
    {
     "name": "stderr",
     "output_type": "stream",
     "text": [
      "100%|█████████████████████████████████████████████████████████████████████████| 3980/3980 [00:00<00:00, 1327079.25it/s]\n",
      "100%|██████████████████████████████████████████████████████████████████████████| 3980/3980 [00:00<00:00, 995428.14it/s]\n",
      "100%|█████████████████████████████████████████████████████████████████████████| 2000/2000 [00:00<00:00, 2003967.51it/s]\n",
      "100%|██████████████████████████████████████████████████████████████████████████| 2000/2000 [00:00<00:00, 999714.93it/s]\n"
     ]
    }
   ],
   "source": [
    "test_df.author = test_df.author.progress_apply(lambda x: 'us_' + x)\n",
    "test_df.subreddit = test_df.subreddit.progress_apply(lambda x: 'sr_' + x)\n",
    "answer_df.author = answer_df.author.progress_apply(lambda x: 'us_' + x)\n",
    "answer_df.subreddit = answer_df.subreddit.progress_apply(lambda x: 'sr_' + x)"
   ]
  },
  {
   "cell_type": "code",
   "execution_count": 44,
   "id": "premier-sweet",
   "metadata": {},
   "outputs": [
    {
     "data": {
      "text/html": [
       "<div>\n",
       "<style scoped>\n",
       "    .dataframe tbody tr th:only-of-type {\n",
       "        vertical-align: middle;\n",
       "    }\n",
       "\n",
       "    .dataframe tbody tr th {\n",
       "        vertical-align: top;\n",
       "    }\n",
       "\n",
       "    .dataframe thead th {\n",
       "        text-align: right;\n",
       "    }\n",
       "</style>\n",
       "<table border=\"1\" class=\"dataframe\">\n",
       "  <thead>\n",
       "    <tr style=\"text-align: right;\">\n",
       "      <th></th>\n",
       "      <th>Unnamed: 0</th>\n",
       "      <th>author_fullname</th>\n",
       "      <th>author</th>\n",
       "      <th>subreddit</th>\n",
       "      <th>subreddit_ranking</th>\n",
       "      <th>t_user_sub_comments</th>\n",
       "      <th>num_of_subreddit</th>\n",
       "    </tr>\n",
       "  </thead>\n",
       "  <tbody>\n",
       "    <tr>\n",
       "      <th>0</th>\n",
       "      <td>0</td>\n",
       "      <td>t2_106bpk58</td>\n",
       "      <td>us_Apc_007</td>\n",
       "      <td>sr_iamatotalpieceofshit</td>\n",
       "      <td>96</td>\n",
       "      <td>5</td>\n",
       "      <td>2</td>\n",
       "    </tr>\n",
       "    <tr>\n",
       "      <th>1</th>\n",
       "      <td>1</td>\n",
       "      <td>t2_10aj9l3k</td>\n",
       "      <td>us_Hollow661</td>\n",
       "      <td>sr_Showerthoughts</td>\n",
       "      <td>19</td>\n",
       "      <td>80</td>\n",
       "      <td>3</td>\n",
       "    </tr>\n",
       "  </tbody>\n",
       "</table>\n",
       "</div>"
      ],
      "text/plain": [
       "   Unnamed: 0 author_fullname        author                subreddit  \\\n",
       "0           0     t2_106bpk58    us_Apc_007  sr_iamatotalpieceofshit   \n",
       "1           1     t2_10aj9l3k  us_Hollow661        sr_Showerthoughts   \n",
       "\n",
       "   subreddit_ranking  t_user_sub_comments  num_of_subreddit  \n",
       "0                 96                    5                 2  \n",
       "1                 19                   80                 3  "
      ]
     },
     "execution_count": 44,
     "metadata": {},
     "output_type": "execute_result"
    }
   ],
   "source": [
    "test_df.head(2)"
   ]
  },
  {
   "cell_type": "markdown",
   "id": "stainless-snapshot",
   "metadata": {},
   "source": [
    "## 2.1 Specific User Recommendation"
   ]
  },
  {
   "cell_type": "code",
   "execution_count": 45,
   "id": "inner-franchise",
   "metadata": {},
   "outputs": [],
   "source": [
    "subreddit_follow = []\n",
    "final_score_top1 = []\n",
    "final_score_top5 = []\n",
    "final_score_top10 = []\n",
    "similar_user_n = []"
   ]
  },
  {
   "cell_type": "code",
   "execution_count": 68,
   "id": "entitled-hometown",
   "metadata": {},
   "outputs": [
    {
     "data": {
      "text/html": [
       "<div>\n",
       "<style scoped>\n",
       "    .dataframe tbody tr th:only-of-type {\n",
       "        vertical-align: middle;\n",
       "    }\n",
       "\n",
       "    .dataframe tbody tr th {\n",
       "        vertical-align: top;\n",
       "    }\n",
       "\n",
       "    .dataframe thead th {\n",
       "        text-align: right;\n",
       "    }\n",
       "</style>\n",
       "<table border=\"1\" class=\"dataframe\">\n",
       "  <thead>\n",
       "    <tr style=\"text-align: right;\">\n",
       "      <th></th>\n",
       "      <th>Unnamed: 0</th>\n",
       "      <th>author_fullname</th>\n",
       "      <th>author</th>\n",
       "      <th>subreddit</th>\n",
       "      <th>subreddit_ranking</th>\n",
       "      <th>t_user_sub_comments</th>\n",
       "      <th>num_of_subreddit</th>\n",
       "    </tr>\n",
       "  </thead>\n",
       "  <tbody>\n",
       "    <tr>\n",
       "      <th>22</th>\n",
       "      <td>22</td>\n",
       "      <td>t2_11d4m6t0</td>\n",
       "      <td>us_Akshay71</td>\n",
       "      <td>sr_lakers</td>\n",
       "      <td>82</td>\n",
       "      <td>9</td>\n",
       "      <td>2</td>\n",
       "    </tr>\n",
       "  </tbody>\n",
       "</table>\n",
       "</div>"
      ],
      "text/plain": [
       "    Unnamed: 0 author_fullname       author  subreddit  subreddit_ranking  \\\n",
       "22          22     t2_11d4m6t0  us_Akshay71  sr_lakers                 82   \n",
       "\n",
       "    t_user_sub_comments  num_of_subreddit  \n",
       "22                    9                 2  "
      ]
     },
     "execution_count": 68,
     "metadata": {},
     "output_type": "execute_result"
    }
   ],
   "source": [
    "answer_df[answer_df.author == 'us_Akshay71']"
   ]
  },
  {
   "cell_type": "code",
   "execution_count": 46,
   "id": "western-greene",
   "metadata": {},
   "outputs": [
    {
     "data": {
      "text/html": [
       "<div>\n",
       "<style scoped>\n",
       "    .dataframe tbody tr th:only-of-type {\n",
       "        vertical-align: middle;\n",
       "    }\n",
       "\n",
       "    .dataframe tbody tr th {\n",
       "        vertical-align: top;\n",
       "    }\n",
       "\n",
       "    .dataframe thead th {\n",
       "        text-align: right;\n",
       "    }\n",
       "</style>\n",
       "<table border=\"1\" class=\"dataframe\">\n",
       "  <thead>\n",
       "    <tr style=\"text-align: right;\">\n",
       "      <th></th>\n",
       "      <th>Unnamed: 0</th>\n",
       "      <th>author_fullname</th>\n",
       "      <th>author</th>\n",
       "      <th>subreddit</th>\n",
       "      <th>subreddit_ranking</th>\n",
       "      <th>t_user_sub_comments</th>\n",
       "      <th>num_of_subreddit</th>\n",
       "    </tr>\n",
       "  </thead>\n",
       "  <tbody>\n",
       "    <tr>\n",
       "      <th>24</th>\n",
       "      <td>24</td>\n",
       "      <td>t2_11d4m6t0</td>\n",
       "      <td>us_Akshay71</td>\n",
       "      <td>sr_nba</td>\n",
       "      <td>2</td>\n",
       "      <td>5</td>\n",
       "      <td>2</td>\n",
       "    </tr>\n",
       "  </tbody>\n",
       "</table>\n",
       "</div>"
      ],
      "text/plain": [
       "    Unnamed: 0 author_fullname       author subreddit  subreddit_ranking  \\\n",
       "24          24     t2_11d4m6t0  us_Akshay71    sr_nba                  2   \n",
       "\n",
       "    t_user_sub_comments  num_of_subreddit  \n",
       "24                    5                 2  "
      ]
     },
     "execution_count": 46,
     "metadata": {},
     "output_type": "execute_result"
    }
   ],
   "source": [
    "test_df[test_df.author == 'us_Akshay71']"
   ]
  },
  {
   "cell_type": "code",
   "execution_count": 74,
   "id": "apart-sterling",
   "metadata": {},
   "outputs": [
    {
     "name": "stdout",
     "output_type": "stream",
     "text": [
      "threshold 0.2\n"
     ]
    },
    {
     "data": {
      "text/html": [
       "<div>\n",
       "<style scoped>\n",
       "    .dataframe tbody tr th:only-of-type {\n",
       "        vertical-align: middle;\n",
       "    }\n",
       "\n",
       "    .dataframe tbody tr th {\n",
       "        vertical-align: top;\n",
       "    }\n",
       "\n",
       "    .dataframe thead th {\n",
       "        text-align: right;\n",
       "    }\n",
       "</style>\n",
       "<table border=\"1\" class=\"dataframe\">\n",
       "  <thead>\n",
       "    <tr style=\"text-align: right;\">\n",
       "      <th></th>\n",
       "      <th>user</th>\n",
       "      <th>value</th>\n",
       "    </tr>\n",
       "  </thead>\n",
       "  <tbody>\n",
       "    <tr>\n",
       "      <th>0</th>\n",
       "      <td>us_TheWinRock</td>\n",
       "      <td>0.5</td>\n",
       "    </tr>\n",
       "    <tr>\n",
       "      <th>7364</th>\n",
       "      <td>us_YouNeedABassPlayer</td>\n",
       "      <td>0.5</td>\n",
       "    </tr>\n",
       "    <tr>\n",
       "      <th>7356</th>\n",
       "      <td>us_Tisko</td>\n",
       "      <td>0.5</td>\n",
       "    </tr>\n",
       "    <tr>\n",
       "      <th>7357</th>\n",
       "      <td>us_OfficialPaddysPub</td>\n",
       "      <td>0.5</td>\n",
       "    </tr>\n",
       "    <tr>\n",
       "      <th>7358</th>\n",
       "      <td>us_sammyh34</td>\n",
       "      <td>0.5</td>\n",
       "    </tr>\n",
       "    <tr>\n",
       "      <th>...</th>\n",
       "      <td>...</td>\n",
       "      <td>...</td>\n",
       "    </tr>\n",
       "    <tr>\n",
       "      <th>13776</th>\n",
       "      <td>us_youryoureyouier</td>\n",
       "      <td>0.2</td>\n",
       "    </tr>\n",
       "    <tr>\n",
       "      <th>13775</th>\n",
       "      <td>us_Kyber99</td>\n",
       "      <td>0.2</td>\n",
       "    </tr>\n",
       "    <tr>\n",
       "      <th>13774</th>\n",
       "      <td>us_stashtv</td>\n",
       "      <td>0.2</td>\n",
       "    </tr>\n",
       "    <tr>\n",
       "      <th>13773</th>\n",
       "      <td>us_Toolshed462</td>\n",
       "      <td>0.2</td>\n",
       "    </tr>\n",
       "    <tr>\n",
       "      <th>13733</th>\n",
       "      <td>us_frezKo_gooner</td>\n",
       "      <td>0.2</td>\n",
       "    </tr>\n",
       "  </tbody>\n",
       "</table>\n",
       "<p>19383 rows × 2 columns</p>\n",
       "</div>"
      ],
      "text/plain": [
       "                        user  value\n",
       "0              us_TheWinRock    0.5\n",
       "7364   us_YouNeedABassPlayer    0.5\n",
       "7356                us_Tisko    0.5\n",
       "7357    us_OfficialPaddysPub    0.5\n",
       "7358             us_sammyh34    0.5\n",
       "...                      ...    ...\n",
       "13776     us_youryoureyouier    0.2\n",
       "13775             us_Kyber99    0.2\n",
       "13774             us_stashtv    0.2\n",
       "13773         us_Toolshed462    0.2\n",
       "13733       us_frezKo_gooner    0.2\n",
       "\n",
       "[19383 rows x 2 columns]"
      ]
     },
     "metadata": {},
     "output_type": "display_data"
    }
   ],
   "source": [
    "name = 'us_Akshay71'\n",
    "subreddit = test_df[test_df.author == name].subreddit.values\n",
    "subreddit_follow.append(len(subreddit))\n",
    "\n",
    "user_nodes = get_nodes_from_partition(G, 'user')\n",
    "len_sr_nodes = len(get_nodes_from_partition(G, 'subreddit'))\n",
    "df = most_similar_users_function(G, subreddit, user_nodes, len_sr_nodes, 0.40)"
   ]
  },
  {
   "cell_type": "code",
   "execution_count": 81,
   "id": "dietary-spice",
   "metadata": {},
   "outputs": [
    {
     "data": {
      "text/plain": [
       "sr_AskReddit         2723\n",
       "sr_torontoraptors    2516\n",
       "sr_lakers            2186\n",
       "sr_nfl               2083\n",
       "sr_soccer            1995\n",
       "sr_politics          1656\n",
       "sr_hockey            1322\n",
       "sr_baseball          1293\n",
       "sr_SquaredCircle      964\n",
       "sr_hiphopheads        803\n",
       "dtype: int64"
      ]
     },
     "execution_count": 81,
     "metadata": {},
     "output_type": "execute_result"
    }
   ],
   "source": [
    "result = recommend_repositories_user(G, subreddit, df.user.values)\n",
    "result[:10]"
   ]
  },
  {
   "cell_type": "code",
   "execution_count": 66,
   "id": "reserved-occurrence",
   "metadata": {},
   "outputs": [
    {
     "data": {
      "text/plain": [
       "'sr_lakers'"
      ]
     },
     "execution_count": 66,
     "metadata": {},
     "output_type": "execute_result"
    }
   ],
   "source": [
    "sr_answer"
   ]
  },
  {
   "cell_type": "markdown",
   "id": "matched-democracy",
   "metadata": {},
   "source": [
    "# 2.2. Check Model Performance from 2000 users"
   ]
  },
  {
   "cell_type": "code",
   "execution_count": null,
   "id": "metropolitan-mozambique",
   "metadata": {},
   "outputs": [],
   "source": [
    "test_author = test_df.author.unique()\n",
    "subreddit_follow = []\n",
    "final_score_top1 = []\n",
    "final_score_top5 = []\n",
    "final_score_top10 = []\n",
    "similar_user_n = []\n",
    "\n",
    "top1_res = []\n",
    "top5_res = []\n",
    "top10_res = []\n",
    "\n",
    "for val in [0.2, 0.4, 0.6, 0.8]:\n",
    "    for name in tqdm(test_author):\n",
    "    #     print(name)\n",
    "        subreddit = test_df[test_df.author == name].subreddit.values\n",
    "        subreddit_follow.append(len(subreddit))\n",
    "\n",
    "        users_similar, threshold, sr_recommendation =  recommendation_collaborative_jaccard(G, subreddit, val)\n",
    "\n",
    "        top1 = sr_recommendation.index[0] if len(sr_recommendation) != 0 else '0'\n",
    "        top5 = sr_recommendation.index[:5] if len(sr_recommendation) != 0 else ['0']\n",
    "        top10 = sr_recommendation.index if len(sr_recommendation) != 0 else ['0']\n",
    "    #     print(top1)\n",
    "\n",
    "        sr_answer = answer_df[answer_df.author == name].subreddit.iloc[0]\n",
    "    #     print(sr_answer)\n",
    "\n",
    "        top1_score = (sr_answer == top1)\n",
    "        top5_score = (sr_answer in top5)\n",
    "        top10_score = (sr_answer in top10)\n",
    "\n",
    "        final_score_top1.append(top1_score)\n",
    "        final_score_top5.append(top5_score)\n",
    "        final_score_top10.append(top10_score)\n",
    "        similar_user_n.append(np.sum(np.array(len(users_similar))))\n",
    "        \n",
    "    top1_res.append(np.sum(final_score_top1)/2000 * 100)\n",
    "    top5_res.append(np.sum(final_score_top5)/2000 * 100)\n",
    "    top10_res.append(np.sum(final_score_top10)/2000 * 100)"
   ]
  },
  {
   "cell_type": "code",
   "execution_count": null,
   "id": "presidential-restoration",
   "metadata": {},
   "outputs": [],
   "source": [
    "df_result2 = pd.DataFrame({'top1' : top1_res,\n",
    "                          'top5' : top5_res,\n",
    "                          'top10' : top10_res})\n",
    "df_result2.to_csv('result_jaccard.csv')"
   ]
  },
  {
   "cell_type": "markdown",
   "id": "terminal-citation",
   "metadata": {},
   "source": [
    "# 3.0 Result"
   ]
  },
  {
   "cell_type": "code",
   "execution_count": 26,
   "id": "expected-amendment",
   "metadata": {},
   "outputs": [
    {
     "data": {
      "image/png": "[encoded data removed]",
      "text/plain": [
       "<Figure size 576x360 with 1 Axes>"
      ]
     },
     "metadata": {
      "needs_background": "light"
     },
     "output_type": "display_data"
    }
   ],
   "source": [
    "plt.figure(figsize = (8,5))\n",
    "plt.title('Line plot of performance of Jaccard Similarity')\n",
    "plt.plot([0.2, 0.4, 0.6, 0.8], df_result2.top1, marker = '.', markersize = 9, label = 'Recommend 1 subreddit')\n",
    "plt.plot([0.2, 0.4, 0.6, 0.8], df_result2.top5, marker = '.', markersize = 9, label = 'Recommend 5subreddit')\n",
    "plt.plot([0.2, 0.4, 0.6, 0.8], df_result2.top10, marker = '.', markersize = 9, label = 'Recommend 10subreddit')\n",
    "plt.xlabel('threshold t')\n",
    "plt.ylabel('% accuracy')\n",
    "plt.ylim(0,68)\n",
    "plt.legend()\n",
    "plt.show()\n"
   ]
  }
 ],
 "metadata": {
  "kernelspec": {
   "display_name": "Python [conda env:python3.7]",
   "language": "python",
   "name": "conda-env-python3.7-py"
  },
  "language_info": {
   "codemirror_mode": {
    "name": "ipython",
    "version": 3
   },
   "file_extension": ".py",
   "mimetype": "text/x-python",
   "name": "python",
   "nbconvert_exporter": "python",
   "pygments_lexer": "ipython3",
   "version": "3.7.7"
  }
 },
 "nbformat": 4,
 "nbformat_minor": 5
}
